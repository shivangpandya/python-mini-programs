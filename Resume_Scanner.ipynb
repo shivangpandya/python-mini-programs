{
  "nbformat": 4,
  "nbformat_minor": 0,
  "metadata": {
    "colab": {
      "name": "Resume_Scanner.ipynb",
      "provenance": [],
      "authorship_tag": "ABX9TyNBVSsPwI+g+deFFp/eKyR8",
      "include_colab_link": true
    },
    "kernelspec": {
      "name": "python3",
      "display_name": "Python 3"
    }
  },
  "cells": [
    {
      "cell_type": "markdown",
      "metadata": {
        "id": "view-in-github",
        "colab_type": "text"
      },
      "source": [
        "<a href=\"https://colab.research.google.com/github/shivangpandya/python-mini-programs/blob/master/Resume_Scanner.ipynb\" target=\"_parent\"><img src=\"https://colab.research.google.com/assets/colab-badge.svg\" alt=\"Open In Colab\"/></a>"
      ]
    },
    {
      "cell_type": "code",
      "metadata": {
        "id": "1imF-jbSB2i9",
        "colab_type": "code",
        "colab": {}
      },
      "source": [
        "#Create a program to see how similar the resume is to the job description"
      ],
      "execution_count": 0,
      "outputs": []
    },
    {
      "cell_type": "code",
      "metadata": {
        "id": "rqh-TvkWCKuf",
        "colab_type": "code",
        "colab": {
          "base_uri": "https://localhost:8080/",
          "height": 170
        },
        "outputId": "a1b33da3-5729-4ce6-84be-8c525ee9c1d9"
      },
      "source": [
        "#Install doc2txt\n",
        "pip install docx2txt"
      ],
      "execution_count": 9,
      "outputs": [
        {
          "output_type": "stream",
          "text": [
            "Collecting docx2txt\n",
            "  Downloading https://files.pythonhosted.org/packages/7d/7d/60ee3f2b16d9bfdfa72e8599470a2c1a5b759cb113c6fe1006be28359327/docx2txt-0.8.tar.gz\n",
            "Building wheels for collected packages: docx2txt\n",
            "  Building wheel for docx2txt (setup.py) ... \u001b[?25l\u001b[?25hdone\n",
            "  Created wheel for docx2txt: filename=docx2txt-0.8-cp36-none-any.whl size=3963 sha256=396f34fa72ae2c1fea2d06de14630142af6ac63ac13f3afb98e7a7ffca5a8f0b\n",
            "  Stored in directory: /root/.cache/pip/wheels/b2/1f/26/a051209bbb77fc6bcfae2bb7e01fa0ff941b82292ab084d596\n",
            "Successfully built docx2txt\n",
            "Installing collected packages: docx2txt\n",
            "Successfully installed docx2txt-0.8\n"
          ],
          "name": "stdout"
        }
      ]
    },
    {
      "cell_type": "code",
      "metadata": {
        "id": "Ow7eP_a7CXx_",
        "colab_type": "code",
        "colab": {}
      },
      "source": [
        "#Import the library \n",
        "import docx2txt\n"
      ],
      "execution_count": 0,
      "outputs": []
    },
    {
      "cell_type": "code",
      "metadata": {
        "id": "H83XCTZ3Ctwr",
        "colab_type": "code",
        "colab": {
          "resources": {
            "http://localhost:8080/nbextensions/google.colab/files.js": {
              "data": "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",
              "ok": true,
              "headers": [
                [
                  "content-type",
                  "application/javascript"
                ]
              ],
              "status": 200,
              "status_text": ""
            }
          },
          "base_uri": "https://localhost:8080/",
          "height": 105
        },
        "outputId": "9df142c3-00dd-4ceb-eb5c-e2978319639e"
      },
      "source": [
        "from google.colab import files\n",
        "uploaded = files.upload()"
      ],
      "execution_count": 14,
      "outputs": [
        {
          "output_type": "display_data",
          "data": {
            "text/html": [
              "\n",
              "     <input type=\"file\" id=\"files-bbe47f4a-1142-4828-a182-933998be6746\" name=\"files[]\" multiple disabled />\n",
              "     <output id=\"result-bbe47f4a-1142-4828-a182-933998be6746\">\n",
              "      Upload widget is only available when the cell has been executed in the\n",
              "      current browser session. Please rerun this cell to enable.\n",
              "      </output>\n",
              "      <script src=\"/nbextensions/google.colab/files.js\"></script> "
            ],
            "text/plain": [
              "<IPython.core.display.HTML object>"
            ]
          },
          "metadata": {
            "tags": []
          }
        },
        {
          "output_type": "stream",
          "text": [
            "Saving resume_sample_data.docx to resume_sample_data.docx\n",
            "Saving Job_des_dataset.docx to Job_des_dataset.docx\n"
          ],
          "name": "stdout"
        }
      ]
    },
    {
      "cell_type": "code",
      "metadata": {
        "id": "iQ-W62bEDdNQ",
        "colab_type": "code",
        "colab": {
          "base_uri": "https://localhost:8080/",
          "height": 1000
        },
        "outputId": "719f16ec-f5cd-49c0-fe59-fb3ae9cb6082"
      },
      "source": [
        "resume = docx2txt.process(\"resume_sample_data.docx\")\n",
        "#Print the resume\n",
        "print(resume)"
      ],
      "execution_count": 15,
      "outputs": [
        {
          "output_type": "stream",
          "text": [
            "MARIA LISA\n",
            "\n",
            "Email: maria123@gmail.com\n",
            "Phone: (555)-555-5555\n",
            "\n",
            "\n",
            "\n",
            "CAREER SUMMARY\n",
            "\n",
            "Around 3 Years of experience in Analysis, Design, Development, Management and Validation of various stand-alone and client-server applications.\n",
            "\n",
            "2+ years of experience in implementing Object-Oriented Python, Hash Tables (Dictionaries) and Multi threading.\n",
            "\n",
            "Experience in installing software using pip command for python libraries and extensive usage of the PEP8 coding convention.\n",
            "\n",
            "Good understanding on Django ORM and SQLAlchemy.\n",
            "\n",
            "Experienced in interfacing with third party API’s using REST and SOAP\n",
            "\n",
            "Worked with varieties of Relational Databases (RDBMS) like SQLite, MySQL and PostgreSQL.\n",
            "\n",
            "Experienced in writing SubQueries, Triggers, Cursors, Stored Procedures and Functions.\n",
            "\n",
            "Proficient knowledge of Web services like Google Cloud and Amazon AWS Services.\n",
            "\n",
            "Good Knowledge on Linux and Shell Scripting.\n",
            "\n",
            "Experienced in developing web-based applications using Python, PHP, XML, JSON and MVC3\n",
            "\n",
            "Well versed in design and development of presentation layer for web applications using technologies like HTML,CSS, JavaScript, JQuery, AJAX and Bootstrap.\n",
            "\n",
            "EDUCATION\n",
            "\n",
            "Course (Stream)/ Examination\n",
            "\n",
            "Institution/University/School\n",
            "\n",
            "Year of Passing\n",
            "\n",
            "Performance\n",
            "\n",
            "B.E\n",
            "\n",
            "Tagore College of Engineering and Technology – Chennai\n",
            "\n",
            "2015\n",
            "\n",
            "90%\n",
            "\n",
            "HSC\n",
            "\n",
            "Scread Higher Secondary School\n",
            "\n",
            "2009\n",
            "\n",
            "84%\n",
            "\n",
            "SSLC\n",
            "\n",
            "ST.Marry Higher Secondary School\n",
            "\n",
            "2007\n",
            "\n",
            "80%\n",
            "\n",
            "SKILLS\n",
            "\n",
            "AJAX (1 year)\n",
            "\n",
            "CSS (1 year)\n",
            "\n",
            "HTML (1 year)\n",
            "\n",
            "JAVASCRIPT (1 year)\n",
            "\n",
            "MYSQL (1 year)\n",
            "\n",
            "WORK EXPERIENCE\n",
            "\n",
            "1.) Python Developer\n",
            "\n",
            "Tata Consultancy Services – October 2015 to December 2016\n",
            "\n",
            "Responsibilities: \n",
            "\n",
            "Involved in building database model, APIs and views utilizing Python, in order to build an interactive web based solution.\n",
            "\n",
            "Used data types like dictionaries, tuples and object -concepts based inheritance features for making complex algorithms of networks.\n",
            "\n",
            "Designed and developed the UI of the website using HTML, XHTML, AJAX, CSS and JavaScript.\n",
            "\n",
            "Expertise in client scripting languages like JavaScript, JQuery, JSON, DOJO, bootstrap, Angular.js.\n",
            "\n",
            "Designed and managed API system deployment using fast http server and Amazon AWS architecture\n",
            "\n",
            "Worked on Python Open stack API’s.\n",
            "\n",
            "Carried out various mathematical operations for calculation purpose using python libraries.\n",
            "\n",
            "Managed large datasets using Panda data frames and MySQL.\n",
            "\n",
            "Worked with JSON based REST Web services.\n",
            "\n",
            "Performed testing using Django’s Test Module.\n",
            "\n",
            "Creating unit test/regression test framework for working/new code.\n",
            "\n",
            "Using Subversion version control tool to coordinate team-development.\n",
            "\n",
            "Environment: Python, XML, Java, MySQL, Apache, CSS, HTML, JavaScript, Shell Scripts, Linux and Windows.\n",
            "\n",
            "2.) Python Developer\n",
            "\n",
            "Techwave Consulting Inc  – January 2015 to October 2015\n",
            "\n",
            "Responsibilities:\n",
            "\n",
            "Developed Views and Templates with Django view, controller and template language to create a user-friendly website interface.\n",
            "\n",
            "Configured the Django admin site, dashboard and created a custom Django dashboard for end users with custom look and feel.\n",
            "\n",
            "Used Python for XML, JSON processing, data exchange and business logic implementation.\n",
            "\n",
            "Created UI using JavaScript and HTML5. Designed and developed data management system using MongoDB.\n",
            "\n",
            "Used Python scripts to update the content in database and manipulate files.\n",
            "\n",
            "Proficient in Software Design and Development with a solid background in developing.\n",
            "\n",
            "Environment: Python, XML, MySQL, Apache, CSS, HTML, JavaScript, Shell Scripts, Linux and Windows.\n",
            "\n",
            "ADDITIONAL INFORMATION\n",
            "\n",
            "Languages Python, PHP, Java, C++, Shell scripting\n",
            "\n",
            "Python Framework Django, Pandas, Numpy, Scipy, Matplotlib, Seaborn, TensorFlow, Scikit-Learn, Pytorch.\n",
            "\n",
            "Databases MS SQL, MySQL, Oracle, PostgreSQL\n",
            "\n",
            "Web Technologies XML, CSS, HTML 5, JavaScript, JQuery, MVC 3, Bootstrap, AJAX, angular 2, PHP\n",
            "\n",
            "IDE Visual studio, PyCharm, Eclipse, MyEclipse\n"
          ],
          "name": "stdout"
        }
      ]
    },
    {
      "cell_type": "code",
      "metadata": {
        "id": "jr8e4XMpFalb",
        "colab_type": "code",
        "colab": {
          "base_uri": "https://localhost:8080/",
          "height": 802
        },
        "outputId": "73645eb8-eb75-4866-c6de-985de330949a"
      },
      "source": [
        "#Store the job description in a variable\n",
        "job_description = docx2txt.process(\"Job_des_dataset.docx\")\n",
        "\n",
        "#Print the jov description\n",
        "print(job_description)"
      ],
      "execution_count": 17,
      "outputs": [
        {
          "output_type": "stream",
          "text": [
            "We are looking for a Python Web Developer responsible for managing the interchange of data between the server and the users. Your primary focus will be the development of all server-side logic, ensuring high performance and responsiveness to requests from the front-end. You will also be responsible for integrating the front-end elements built by your co-workers into the application; therefore, a basic understanding of front-end technologies is necessary as well.\n",
            "\n",
            "Responsibilities\n",
            "\n",
            "Writing reusable, testable, and efficient code\n",
            "\n",
            "Design and implementation of low-latency, high-availability, and performant applications\n",
            "\n",
            "Integration of user-facing elements developed by front-end developers with server side logic\n",
            "\n",
            "Implementation of security and data protection\n",
            "\n",
            "Integration of data storage solutions {{may include databases, key-value stores, blob stores, etc.}}\n",
            "\n",
            "{{Add other responsibilities here that are relevant}}\n",
            "\n",
            "Skills And Qualifications\n",
            "\n",
            "Expert in Python, with knowledge of at least one Python web framework {{such as Django, Flask, etc depending on your technology stack}}\n",
            "\n",
            "Familiarity with some ORM (Object Relational Mapper) libraries\n",
            "\n",
            "Able to integrate multiple data sources and databases into one system\n",
            "\n",
            "Understanding of the threading limitations of Python, and multi-process architecture\n",
            "\n",
            "Good understanding of server-side templating languages {{such as Jinja 2, Mako, etc depending on your technology stack}}\n",
            "\n",
            "Basic understanding of front-end technologies, such as JavaScript, HTML5, and CSS3\n",
            "\n",
            "Understanding of accessibility and security compliance {{depending on the specific project}}\n",
            "\n",
            "Knowledge of user authentication and authorization between multiple systems, servers, and environments\n",
            "\n",
            "Understanding of fundamental design principles behind a scalable application\n",
            "\n",
            "Familiarity with event-driven programming in Python\n",
            "\n",
            "Understanding of the differences between multiple delivery platforms, such as mobile vs desktop, and optimizing output to match the specific platform\n",
            "\n",
            "Able to create database schemas that represent and support business processes\n",
            "\n",
            "Strong unit test and debugging skills\n",
            "\n",
            "Proficient understanding of code versioning tools {{such as Git, Mercurial or SVN}}\n"
          ],
          "name": "stdout"
        }
      ]
    },
    {
      "cell_type": "code",
      "metadata": {
        "id": "EPETxYdXGKt8",
        "colab_type": "code",
        "colab": {}
      },
      "source": [
        "text = [resume , job_description]"
      ],
      "execution_count": 0,
      "outputs": []
    },
    {
      "cell_type": "code",
      "metadata": {
        "id": "KzgFwS5MGXSg",
        "colab_type": "code",
        "colab": {}
      },
      "source": [
        "from sklearn.feature_extraction.text import CountVectorizer\n",
        "\n",
        "cv = CountVectorizer()\n",
        "\n",
        "count_matrix  = cv.fit_transform(text)"
      ],
      "execution_count": 0,
      "outputs": []
    },
    {
      "cell_type": "code",
      "metadata": {
        "id": "fbqrdLpHGjgQ",
        "colab_type": "code",
        "colab": {
          "base_uri": "https://localhost:8080/",
          "height": 68
        },
        "outputId": "810ec8e3-11cd-495e-9098-65d7333c13f1"
      },
      "source": [
        "from sklearn.metrics.pairwise import cosine_similarity\n",
        "\n",
        "print(\"Similarity Scores:\")\n",
        "print(cosine_similarity(count_matrix))"
      ],
      "execution_count": 23,
      "outputs": [
        {
          "output_type": "stream",
          "text": [
            "Similarity Scores:\n",
            "[[1.         0.57249354]\n",
            " [0.57249354 1.        ]]\n"
          ],
          "name": "stdout"
        }
      ]
    },
    {
      "cell_type": "code",
      "metadata": {
        "id": "GiUFGQhVHG17",
        "colab_type": "code",
        "colab": {
          "base_uri": "https://localhost:8080/",
          "height": 34
        },
        "outputId": "49980864-5087-49a0-de3e-ee0d6f614582"
      },
      "source": [
        "#Get the match percentage\n",
        "matchPercentage = cosine_similarity(count_matrix)[0][1]*100\n",
        "matchPercentage\n",
        "matchPercentage = round(matchPercentage,2)\n",
        "\n",
        "Zprint(\"Your resume matches about \" + str(matchPercentage) +\"% of the job description.\")"
      ],
      "execution_count": 31,
      "outputs": [
        {
          "output_type": "stream",
          "text": [
            "Your resume matches about 57.25% of the job description.\n"
          ],
          "name": "stdout"
        }
      ]
    },
    {
      "cell_type": "code",
      "metadata": {
        "id": "KkxPovAQHpVe",
        "colab_type": "code",
        "colab": {}
      },
      "source": [
        ""
      ],
      "execution_count": 0,
      "outputs": []
    }
  ]
}